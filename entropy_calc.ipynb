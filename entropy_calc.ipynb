{
 "cells": [
  {
   "cell_type": "code",
   "execution_count": null,
   "metadata": {},
   "outputs": [],
   "source": [
    "def calculate_probability_lithology(lith_blocks):\n",
    "    \"\"\"Blocks must be just the lith blocks!\"\"\"\n",
    "    lith_id = np.unique(lith_blocks)\n",
    "    # lith_count = np.zeros_like(lith_blocks[0:len(lith_id)])\n",
    "    lith_count = np.zeros((len(np.unique(lith_blocks)), lith_blocks.shape[1]))\n",
    "    for i, l_id in enumerate(lith_id):\n",
    "        lith_count[i] = np.sum(lith_blocks == l_id, axis=0)\n",
    "    lith_prob = lith_count / len(lith_blocks)\n",
    "    return lith_prob"
   ]
  },
  {
   "cell_type": "code",
   "execution_count": null,
   "metadata": {},
   "outputs": [],
   "source": [
    "def calculate_information_entropy(lith_prob):\n",
    "    \"\"\"Calculates information entropy for the given probability array.\"\"\"\n",
    "    ie = np.zeros_like(lith_prob[0])\n",
    "    for l in lith_prob:\n",
    "        pm = np.ma.masked_equal(l, 0)  # mask where layer prob is 0\n",
    "        ie -= (pm * np.ma.log2(pm)).filled(0)\n",
    "    return ie"
   ]
  }
 ],
 "metadata": {
  "kernelspec": {
   "display_name": "Python 3",
   "language": "python",
   "name": "python3"
  },
  "language_info": {
   "codemirror_mode": {
    "name": "ipython",
    "version": 3
   },
   "file_extension": ".py",
   "mimetype": "text/x-python",
   "name": "python",
   "nbconvert_exporter": "python",
   "pygments_lexer": "ipython3",
   "version": "3.6.3"
  }
 },
 "nbformat": 4,
 "nbformat_minor": 2
}
